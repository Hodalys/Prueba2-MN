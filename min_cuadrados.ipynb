{
 "cells": [
  {
   "cell_type": "markdown",
   "metadata": {},
   "source": [
    "# Mínimos cuadrados\n",
    "## Prueba 02\n",
    "Interpole los siguientes conjuntos de datos con la función correspondiente. "
   ]
  },
  {
   "cell_type": "markdown",
   "metadata": {},
   "source": [
    "La ecuación de la línea es:\n",
    "\n",
    "$ y(x) = a_1 x + a_0 $\n",
    "\n",
    "Al realizar el proceso de mínimos cuadrados queda el siguiente sistema de ecuaciones:\n",
    "\n",
    "\n",
    "$( \\sum_i (y_i - a_1 x_i - a_0) , \\sum_i (y_i - a_1 x_i - a_0)x_i ) = 0$"
   ]
  },
  {
   "cell_type": "code",
   "execution_count": 35,
   "metadata": {},
   "outputs": [],
   "source": [
    "# Derivadas parciales para regresión lineal\n",
    "# ####################################################################\n",
    "def der_parcial_1(xs: list, ys: list) -> tuple[float, float, float]:\n",
    "    \"\"\"Retorna los coeficientes de la ecuación de la derivada parcial con respecto al parámetro 1 al reemplazar los valores ``xs`` y ``ys``. La ecuación es de la forma:\n",
    "    c_1 * a_1 + c_0 * a_0 = c_ind\n",
    "\n",
    "\n",
    "    ## Parameters\n",
    "\n",
    "    ``xs``: lista de valores de x.\n",
    "\n",
    "    ``ys``: lista de valores de y.\n",
    "\n",
    "    ## Return\n",
    "\n",
    "    ``c_1``: coeficiente del parámetro 1.\n",
    "\n",
    "    ``c_0``: coeficiente del parámetro 0.\n",
    "\n",
    "    ``c_ind``: coeficiente del término independiente.\n",
    "\n",
    "    \"\"\"\n",
    "\n",
    "    # coeficiente del término independiente\n",
    "    c_ind = sum(ys)\n",
    "\n",
    "    # coeficiente del parámetro 1\n",
    "    c_1 = sum(xs)\n",
    "\n",
    "    # coeficiente del parámetro 0\n",
    "    c_0 = len(xs)\n",
    "\n",
    "    return (c_1, c_0, c_ind)\n",
    "    \n",
    "def der_parcial_0(xs: list, ys: list) -> tuple[float, float, float]:\n",
    "    \"\"\"Retorna los coeficientes de la ecuación de la derivada parcial con respecto al parámetro 0 al reemplazar los valores ``xs`` y ``ys``. La ecuación es de la forma:\n",
    "    c_1 * a_1 + c_0 * a_0 = c_ind\n",
    "\n",
    "\n",
    "    ## Parameters\n",
    "\n",
    "    ``xs``: lista de valores de x.\n",
    "\n",
    "    ``ys``: lista de valores de y.\n",
    "\n",
    "    ## Return\n",
    "\n",
    "    ``c_1``: coeficiente del parámetro 1.\n",
    "\n",
    "    ``c_0``: coeficiente del parámetro 0.\n",
    "\n",
    "    ``c_ind``: coeficiente del término independiente.\n",
    "\n",
    "    \"\"\"\n",
    "    c_1 = 0\n",
    "    c_0 = 0\n",
    "    c_ind = 0\n",
    "    for xi, yi in zip(xs, ys):\n",
    "        # coeficiente del término independiente\n",
    "        c_ind += xi * yi\n",
    "\n",
    "        # coeficiente del parámetro 1\n",
    "        c_1 += xi * xi\n",
    "\n",
    "        # coeficiente del parámetro 0\n",
    "        c_0 += xi\n",
    "    \n",
    "\n",
    "    return (c_1, c_0, c_ind)"
   ]
  },
  {
   "cell_type": "markdown",
   "metadata": {},
   "source": [
    "# Conjunto de datos de ejemplo"
   ]
  },
  {
   "cell_type": "code",
   "execution_count": 5,
   "metadata": {},
   "outputs": [],
   "source": [
    "xs = [\n",
    "    -5.0000,\n",
    "    -3.8889,\n",
    "    -2.7778,\n",
    "    -1.6667,\n",
    "    -0.5556,\n",
    "    0.5556,\n",
    "    1.6667,\n",
    "    2.7778,\n",
    "    3.8889,\n",
    "    5.0000,\n",
    "]\n",
    "ys = [\n",
    "    -12.7292,\n",
    "    -7.5775,\n",
    "    -7.7390,\n",
    "    -4.1646,\n",
    "    -4.5382,\n",
    "    2.2048,\n",
    "    4.3369,\n",
    "    2.2227,\n",
    "    9.0625,\n",
    "    7.1860,\n",
    "]"
   ]
  },
  {
   "cell_type": "code",
   "execution_count": 6,
   "metadata": {},
   "outputs": [
    {
     "name": "stdout",
     "output_type": "stream",
     "text": [
      "[01-11 11:35:13][INFO] 2025-01-11 11:35:13.664374\n",
      "[01-11 11:35:14][INFO] 2025-01-11 11:35:14.759016\n",
      "[01-11 11:35:14][INFO] Se ajustarán 2 parámetros.\n",
      "[01-11 11:35:14][INFO] \n",
      "[[101.8525926    0.         209.87476711]\n",
      " [  0.          10.         -11.7356    ]]\n"
     ]
    }
   ],
   "source": [
    "from src import ajustar_min_cuadrados  # no modificar esta función\n",
    "\n",
    "pars = ajustar_min_cuadrados(xs, ys, gradiente=[der_parcial_0, der_parcial_1])"
   ]
  },
  {
   "cell_type": "code",
   "execution_count": 7,
   "metadata": {},
   "outputs": [
    {
     "name": "stdout",
     "output_type": "stream",
     "text": [
      "[01-11 11:49:47][INFO] Se ajustarán 2 parámetros.\n",
      "[01-11 11:49:47][INFO] \n",
      "[[101.8525926    0.         209.87476711]\n",
      " [  0.          10.         -11.7356    ]]\n"
     ]
    },
    {
     "data": {
      "image/png": "[encoded data removed]",
      "text/plain": [
       "<Figure size 640x480 with 1 Axes>"
      ]
     },
     "metadata": {},
     "output_type": "display_data"
    }
   ],
   "source": [
    "import numpy as np\n",
    "import matplotlib.pyplot as plt\n",
    "\n",
    "m, b = ajustar_min_cuadrados(xs, ys, gradiente=[der_parcial_0, der_parcial_1])\n",
    "\n",
    "x = np.linspace(-5, 5, 100)\n",
    "\n",
    "y = [m * xi + b for xi in x]\n",
    "\n",
    "plt.scatter(xs, ys, label=\"Datos\")\n",
    "plt.plot(x, y, color=\"red\", label=r\"$ y = a_1 x + a_0 $\")\n",
    "plt.xlabel(\"x\")\n",
    "plt.ylabel(\"y\")\n",
    "plt.title(\"Ajuste por mínimos cuadrados para conjunto de datos de ejemplo\")\n",
    "plt.legend()\n",
    "plt.show()"
   ]
  },
  {
   "cell_type": "markdown",
   "metadata": {},
   "source": [
    "## Conjunto de datos 1"
   ]
  },
  {
   "cell_type": "code",
   "execution_count": 53,
   "metadata": {},
   "outputs": [],
   "source": [
    "# Derivadas parciales para regresión lineal\n",
    "# ####################################################################\n",
    "\n",
    "def der_parcial_2(xs: list, ys: list) -> tuple[float, float, float, float]:\n",
    "    c_2 = 0\n",
    "    c_1 = 0\n",
    "    c_0 = 0\n",
    "    c_ind = 0\n",
    "    for xi, yi in zip(xs, ys):\n",
    "        # coeficiente del término independiente\n",
    "        c_ind += yi\n",
    "        # coeficiente del parámetro 2\n",
    "        c_2 += xi**2\n",
    "        # coeficiente del parámetro 1\n",
    "        c_1 += xi\n",
    "        # coeficiente del parámetro 0\n",
    "        c_0 += 1\n",
    "    return (c_2, c_1, c_0, c_ind)\n",
    "\n",
    "def der_parcial_1(xs: list, ys: list) -> tuple[float, float, float, float]:\n",
    "    c_2 = 0\n",
    "    c_1 = 0\n",
    "    c_0 = 0\n",
    "    c_ind = 0\n",
    "    for xi, yi in zip(xs, ys):\n",
    "        # coeficiente del término independiente\n",
    "        c_ind += xi * yi\n",
    "        # coeficiente del parámetro 2\n",
    "        c_2 += xi**3\n",
    "        # coeficiente del parámetro 1\n",
    "        c_1 += xi**2\n",
    "        # coeficiente del parámetro 0\n",
    "        c_0 += xi\n",
    "    return (c_2, c_1, c_0, c_ind)\n",
    "\n",
    "def der_parcial_0(xs1: list, ys1: list) -> tuple[float, float, float]:\n",
    "    c_2 = 0\n",
    "    c_1 = 0\n",
    "    c_0 = 0\n",
    "    c_ind = 0\n",
    "    for xi, yi in zip(xs, ys):\n",
    "        # coeficiente del término independiente\n",
    "        c_ind += xi**2 * yi\n",
    "        # coeficiente del parámetro 2\n",
    "        c_2 += xi**4\n",
    "        # coeficiente del parámetro 1\n",
    "        c_1 += xi**3\n",
    "        # coeficiente del parámetro 0\n",
    "        c_0 += xi**2\n",
    "    return (c_2, c_1, c_0, c_ind)"
   ]
  },
  {
   "cell_type": "code",
   "execution_count": 54,
   "metadata": {},
   "outputs": [],
   "source": [
    "xs1 = [\n",
    "    -5.0000,\n",
    "    -3.8889,\n",
    "    -2.7778,\n",
    "    -1.6667,\n",
    "    -0.5556,\n",
    "    0.5556,\n",
    "    1.6667,\n",
    "    2.7778,\n",
    "    3.8889,\n",
    "    5.0000,\n",
    "]\n",
    "ys1 = [\n",
    "    57.2441,\n",
    "    33.0303,\n",
    "    16.4817,\n",
    "    7.0299,\n",
    "    0.5498,\n",
    "    0.7117,\n",
    "    3.4185,\n",
    "    12.1767,\n",
    "    24.9167,\n",
    "    44.2495,\n",
    "]"
   ]
  },
  {
   "cell_type": "code",
   "execution_count": 59,
   "metadata": {},
   "outputs": [
    {
     "name": "stdout",
     "output_type": "stream",
     "text": [
      "[01-11 13:54:18][INFO] Se ajustarán 3 parámetros.\n",
      "[01-11 13:54:18][INFO] \n",
      "[[ 1.01852593e+02  0.00000000e+00  1.00000000e+01  1.99808900e+02]\n",
      " [ 0.00000000e+00  1.01852593e+02  0.00000000e+00 -1.14413577e+02]\n",
      " [-2.27373675e-13  0.00000000e+00 -7.90113041e+01 -3.77274956e+03]]\n",
      "[01-11 13:54:18][INFO] \n",
      "[[ 1.01852593e+02  0.00000000e+00  1.00000000e+01  1.99808900e+02]\n",
      " [ 0.00000000e+00  1.01852593e+02  0.00000000e+00 -1.14413577e+02]\n",
      " [-2.27373675e-13  0.00000000e+00 -7.90113041e+01 -3.77274956e+03]]\n",
      "-2.7263519093017266 -1.1233251295755429 47.74949103023409\n"
     ]
    },
    {
     "data": {
      "image/png": "[encoded data removed]",
      "text/plain": [
       "<Figure size 640x480 with 1 Axes>"
      ]
     },
     "metadata": {},
     "output_type": "display_data"
    }
   ],
   "source": [
    "import numpy as np\n",
    "import matplotlib.pyplot as plt\n",
    "\n",
    "k, m, b = ajustar_min_cuadrados(xs1, ys1, gradiente=[der_parcial_2, der_parcial_1, der_parcial_0])\n",
    "x = np.linspace(-5, 5, 100)\n",
    "\n",
    "y = [k * xi**2 + m * xi + b for xi in x]\n",
    "print(k, m, b)\n",
    "\n",
    "plt.scatter(xs1, ys1)\n",
    "plt.plot(x, y, color=\"red\", label=r\"$ y = a_2 x^2 + a_1 x + a_0 $\")\n",
    "plt.xlabel(\"x\")\n",
    "plt.ylabel(\"y\")\n",
    "plt.title(\"Conjunto de datos 1\")\n",
    "plt.show()"
   ]
  },
  {
   "cell_type": "markdown",
   "metadata": {},
   "source": [
    "Interpole el conjunto de datos 1 usando la función cuadrática. "
   ]
  },
  {
   "cell_type": "markdown",
   "metadata": {},
   "source": [
    "## Conjunto de datos 2"
   ]
  },
  {
   "cell_type": "code",
   "execution_count": 22,
   "metadata": {},
   "outputs": [],
   "source": [
    "xs2 = [\n",
    "    0.0003,\n",
    "    0.0822,\n",
    "    0.2770,\n",
    "    0.4212,\n",
    "    0.4403,\n",
    "    0.5588,\n",
    "    0.5943,\n",
    "    0.6134,\n",
    "    0.9070,\n",
    "    1.0367,\n",
    "    1.1903,\n",
    "    1.2511,\n",
    "    1.2519,\n",
    "    1.2576,\n",
    "    1.6165,\n",
    "    1.6761,\n",
    "    2.0114,\n",
    "    2.0557,\n",
    "    2.1610,\n",
    "    2.6344,\n",
    "]\n",
    "ys2 = [\n",
    "    1.1017,\n",
    "    1.5021,\n",
    "    0.3844,\n",
    "    1.3251,\n",
    "    1.7206,\n",
    "    1.9453,\n",
    "    0.3894,\n",
    "    0.3328,\n",
    "    1.2887,\n",
    "    3.1239,\n",
    "    2.1778,\n",
    "    3.1078,\n",
    "    4.1856,\n",
    "    3.3640,\n",
    "    6.0330,\n",
    "    5.8088,\n",
    "    10.5890,\n",
    "    11.5865,\n",
    "    11.8221,\n",
    "    26.5077,\n",
    "]"
   ]
  },
  {
   "cell_type": "code",
   "execution_count": 23,
   "metadata": {},
   "outputs": [
    {
     "data": {
      "image/png": "[encoded data removed]",
      "text/plain": [
       "<Figure size 640x480 with 1 Axes>"
      ]
     },
     "metadata": {},
     "output_type": "display_data"
    }
   ],
   "source": [
    "import numpy as np\n",
    "import matplotlib.pyplot as plt\n",
    "\n",
    "m, b = ajustar_min_cuadrados(xs1, ys1, gradiente=[der_parcial_0, der_parcial_1])\n",
    "x = np.linspace(-5, 5, 100)\n",
    "y = [m * xi + b for xi in x]\n",
    "\n",
    "plt.scatter(xs1, ys1)\n",
    "plt.plot(x, y, color=\"red\", label=r\"$ y = a_1 x + a_0 $\")\n",
    "plt.scatter(xs2, ys2)\n",
    "plt.xlabel(\"x\")\n",
    "plt.ylabel(\"y\")\n",
    "plt.title(\"Conjunto de datos 2\")\n",
    "plt.show()"
   ]
  },
  {
   "cell_type": "markdown",
   "metadata": {},
   "source": [
    "Interpole el conjunto de datos 2 usando la función exponencial. "
   ]
  }
 ],
 "metadata": {
  "kernelspec": {
   "display_name": "Python 3",
   "language": "python",
   "name": "python3"
  },
  "language_info": {
   "codemirror_mode": {
    "name": "ipython",
    "version": 3
   },
   "file_extension": ".py",
   "mimetype": "text/x-python",
   "name": "python",
   "nbconvert_exporter": "python",
   "pygments_lexer": "ipython3",
   "version": "3.13.0"
  }
 },
 "nbformat": 4,
 "nbformat_minor": 2
}
